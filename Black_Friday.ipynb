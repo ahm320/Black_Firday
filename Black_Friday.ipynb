{
 "cells": [
  {
   "cell_type": "code",
   "execution_count": 1,
   "metadata": {
    "colab": {},
    "colab_type": "code",
    "id": "_ne0KkmPpYeo"
   },
   "outputs": [
    {
     "name": "stderr",
     "output_type": "stream",
     "text": [
      "C:\\ProgramData\\Anaconda3\\lib\\site-packages\\sklearn\\cross_validation.py:41: DeprecationWarning: This module was deprecated in version 0.18 in favor of the model_selection module into which all the refactored classes and functions are moved. Also note that the interface of the new CV iterators are different from that of this module. This module will be removed in 0.20.\n",
      "  \"This module will be removed in 0.20.\", DeprecationWarning)\n"
     ]
    }
   ],
   "source": [
    "import numpy as np \n",
    "import pandas as pd \n",
    "%matplotlib inline\n",
    "import matplotlib.pyplot as plt\n",
    "import seaborn as sns\n",
    "color = sns.color_palette()\n",
    "sns.set_style('darkgrid')\n",
    "from math import sqrt\n",
    "from sklearn import preprocessing\n",
    "from sklearn.cross_validation import KFold, cross_val_score\n",
    "from sklearn.metrics import mean_squared_error\n",
    "from scipy import stats\n",
    "from scipy.stats import boxcox\n",
    "from scipy.stats import norm, skew\n",
    "from sklearn.naive_bayes import GaussianNB\n",
    "from sklearn.linear_model import LinearRegression\n",
    "from sklearn.ensemble import RandomForestRegressor\n",
    "from xgboost import XGBRegressor\n",
    "from sklearn.model_selection import GridSearchCV\n",
    "from sklearn.model_selection import learning_curve"
   ]
  },
  {
   "cell_type": "code",
   "execution_count": 2,
   "metadata": {
    "colab": {},
    "colab_type": "code",
    "id": "ZE5Ysfi0HsDo"
   },
   "outputs": [],
   "source": [
    "train_df = pd.read_csv('../Black Friday/BlackFriday.csv')\n",
    "train_df = train_df[:200000]\n",
    "train_df = train_df.rename(columns={'Stay_In_Current_City_Years':'C_Years'})\n",
    "copy = train_df[['User_ID','Product_ID']].copy()\n",
    "train_df.drop(['User_ID','Product_ID'], axis=1, inplace=True)\n",
    "le = preprocessing.LabelEncoder()"
   ]
  },
  {
   "cell_type": "code",
   "execution_count": 3,
   "metadata": {},
   "outputs": [
    {
     "data": {
      "text/plain": [
       "(200000, 10)"
      ]
     },
     "execution_count": 3,
     "metadata": {},
     "output_type": "execute_result"
    }
   ],
   "source": [
    "train_df.shape"
   ]
  },
  {
   "cell_type": "code",
   "execution_count": 4,
   "metadata": {
    "colab": {
     "base_uri": "https://localhost:8080/",
     "height": 226
    },
    "colab_type": "code",
    "executionInfo": {
     "elapsed": 4965,
     "status": "ok",
     "timestamp": 1544031559032,
     "user": {
      "displayName": "Ahmed Ali",
      "photoUrl": "",
      "userId": "02567208557833711191"
     },
     "user_tz": -120
    },
    "id": "eXftQsb-h4w9",
    "outputId": "c6759b30-f526-4bb1-f954-b6f3f5a91265"
   },
   "outputs": [
    {
     "data": {
      "text/html": [
       "<div>\n",
       "<style scoped>\n",
       "    .dataframe tbody tr th:only-of-type {\n",
       "        vertical-align: middle;\n",
       "    }\n",
       "\n",
       "    .dataframe tbody tr th {\n",
       "        vertical-align: top;\n",
       "    }\n",
       "\n",
       "    .dataframe thead th {\n",
       "        text-align: right;\n",
       "    }\n",
       "</style>\n",
       "<table border=\"1\" class=\"dataframe\">\n",
       "  <thead>\n",
       "    <tr style=\"text-align: right;\">\n",
       "      <th></th>\n",
       "      <th>Gender</th>\n",
       "      <th>Age</th>\n",
       "      <th>Occupation</th>\n",
       "      <th>City_Category</th>\n",
       "      <th>C_Years</th>\n",
       "      <th>Marital_Status</th>\n",
       "      <th>Product_Category_1</th>\n",
       "      <th>Product_Category_2</th>\n",
       "      <th>Product_Category_3</th>\n",
       "      <th>Purchase</th>\n",
       "    </tr>\n",
       "  </thead>\n",
       "  <tbody>\n",
       "    <tr>\n",
       "      <th>0</th>\n",
       "      <td>F</td>\n",
       "      <td>0-17</td>\n",
       "      <td>10</td>\n",
       "      <td>A</td>\n",
       "      <td>2</td>\n",
       "      <td>0</td>\n",
       "      <td>3</td>\n",
       "      <td>NaN</td>\n",
       "      <td>NaN</td>\n",
       "      <td>8370</td>\n",
       "    </tr>\n",
       "    <tr>\n",
       "      <th>1</th>\n",
       "      <td>F</td>\n",
       "      <td>0-17</td>\n",
       "      <td>10</td>\n",
       "      <td>A</td>\n",
       "      <td>2</td>\n",
       "      <td>0</td>\n",
       "      <td>1</td>\n",
       "      <td>6.0</td>\n",
       "      <td>14.0</td>\n",
       "      <td>15200</td>\n",
       "    </tr>\n",
       "    <tr>\n",
       "      <th>2</th>\n",
       "      <td>F</td>\n",
       "      <td>0-17</td>\n",
       "      <td>10</td>\n",
       "      <td>A</td>\n",
       "      <td>2</td>\n",
       "      <td>0</td>\n",
       "      <td>12</td>\n",
       "      <td>NaN</td>\n",
       "      <td>NaN</td>\n",
       "      <td>1422</td>\n",
       "    </tr>\n",
       "    <tr>\n",
       "      <th>3</th>\n",
       "      <td>F</td>\n",
       "      <td>0-17</td>\n",
       "      <td>10</td>\n",
       "      <td>A</td>\n",
       "      <td>2</td>\n",
       "      <td>0</td>\n",
       "      <td>12</td>\n",
       "      <td>14.0</td>\n",
       "      <td>NaN</td>\n",
       "      <td>1057</td>\n",
       "    </tr>\n",
       "    <tr>\n",
       "      <th>4</th>\n",
       "      <td>M</td>\n",
       "      <td>55+</td>\n",
       "      <td>16</td>\n",
       "      <td>C</td>\n",
       "      <td>4+</td>\n",
       "      <td>0</td>\n",
       "      <td>8</td>\n",
       "      <td>NaN</td>\n",
       "      <td>NaN</td>\n",
       "      <td>7969</td>\n",
       "    </tr>\n",
       "    <tr>\n",
       "      <th>5</th>\n",
       "      <td>M</td>\n",
       "      <td>26-35</td>\n",
       "      <td>15</td>\n",
       "      <td>A</td>\n",
       "      <td>3</td>\n",
       "      <td>0</td>\n",
       "      <td>1</td>\n",
       "      <td>2.0</td>\n",
       "      <td>NaN</td>\n",
       "      <td>15227</td>\n",
       "    </tr>\n",
       "    <tr>\n",
       "      <th>6</th>\n",
       "      <td>M</td>\n",
       "      <td>46-50</td>\n",
       "      <td>7</td>\n",
       "      <td>B</td>\n",
       "      <td>2</td>\n",
       "      <td>1</td>\n",
       "      <td>1</td>\n",
       "      <td>8.0</td>\n",
       "      <td>17.0</td>\n",
       "      <td>19215</td>\n",
       "    </tr>\n",
       "    <tr>\n",
       "      <th>7</th>\n",
       "      <td>M</td>\n",
       "      <td>46-50</td>\n",
       "      <td>7</td>\n",
       "      <td>B</td>\n",
       "      <td>2</td>\n",
       "      <td>1</td>\n",
       "      <td>1</td>\n",
       "      <td>15.0</td>\n",
       "      <td>NaN</td>\n",
       "      <td>15854</td>\n",
       "    </tr>\n",
       "    <tr>\n",
       "      <th>8</th>\n",
       "      <td>M</td>\n",
       "      <td>46-50</td>\n",
       "      <td>7</td>\n",
       "      <td>B</td>\n",
       "      <td>2</td>\n",
       "      <td>1</td>\n",
       "      <td>1</td>\n",
       "      <td>16.0</td>\n",
       "      <td>NaN</td>\n",
       "      <td>15686</td>\n",
       "    </tr>\n",
       "    <tr>\n",
       "      <th>9</th>\n",
       "      <td>M</td>\n",
       "      <td>26-35</td>\n",
       "      <td>20</td>\n",
       "      <td>A</td>\n",
       "      <td>1</td>\n",
       "      <td>1</td>\n",
       "      <td>8</td>\n",
       "      <td>NaN</td>\n",
       "      <td>NaN</td>\n",
       "      <td>7871</td>\n",
       "    </tr>\n",
       "  </tbody>\n",
       "</table>\n",
       "</div>"
      ],
      "text/plain": [
       "  Gender    Age  Occupation City_Category C_Years  Marital_Status  \\\n",
       "0      F   0-17          10             A       2               0   \n",
       "1      F   0-17          10             A       2               0   \n",
       "2      F   0-17          10             A       2               0   \n",
       "3      F   0-17          10             A       2               0   \n",
       "4      M    55+          16             C      4+               0   \n",
       "5      M  26-35          15             A       3               0   \n",
       "6      M  46-50           7             B       2               1   \n",
       "7      M  46-50           7             B       2               1   \n",
       "8      M  46-50           7             B       2               1   \n",
       "9      M  26-35          20             A       1               1   \n",
       "\n",
       "   Product_Category_1  Product_Category_2  Product_Category_3  Purchase  \n",
       "0                   3                 NaN                 NaN      8370  \n",
       "1                   1                 6.0                14.0     15200  \n",
       "2                  12                 NaN                 NaN      1422  \n",
       "3                  12                14.0                 NaN      1057  \n",
       "4                   8                 NaN                 NaN      7969  \n",
       "5                   1                 2.0                 NaN     15227  \n",
       "6                   1                 8.0                17.0     19215  \n",
       "7                   1                15.0                 NaN     15854  \n",
       "8                   1                16.0                 NaN     15686  \n",
       "9                   8                 NaN                 NaN      7871  "
      ]
     },
     "execution_count": 4,
     "metadata": {},
     "output_type": "execute_result"
    }
   ],
   "source": [
    "train_df.head(10)"
   ]
  },
  {
   "cell_type": "code",
   "execution_count": 5,
   "metadata": {
    "colab": {
     "base_uri": "https://localhost:8080/",
     "height": 300
    },
    "colab_type": "code",
    "executionInfo": {
     "elapsed": 5588,
     "status": "ok",
     "timestamp": 1544031559704,
     "user": {
      "displayName": "Ahmed Ali",
      "photoUrl": "",
      "userId": "02567208557833711191"
     },
     "user_tz": -120
    },
    "id": "jlz_oZygH982",
    "outputId": "deb78ddc-ee59-464b-f1e9-7edb1b42a967"
   },
   "outputs": [
    {
     "data": {
      "text/html": [
       "<div>\n",
       "<style scoped>\n",
       "    .dataframe tbody tr th:only-of-type {\n",
       "        vertical-align: middle;\n",
       "    }\n",
       "\n",
       "    .dataframe tbody tr th {\n",
       "        vertical-align: top;\n",
       "    }\n",
       "\n",
       "    .dataframe thead th {\n",
       "        text-align: right;\n",
       "    }\n",
       "</style>\n",
       "<table border=\"1\" class=\"dataframe\">\n",
       "  <thead>\n",
       "    <tr style=\"text-align: right;\">\n",
       "      <th></th>\n",
       "      <th>Occupation</th>\n",
       "      <th>Marital_Status</th>\n",
       "      <th>Product_Category_1</th>\n",
       "      <th>Product_Category_2</th>\n",
       "      <th>Product_Category_3</th>\n",
       "      <th>Purchase</th>\n",
       "    </tr>\n",
       "  </thead>\n",
       "  <tbody>\n",
       "    <tr>\n",
       "      <th>count</th>\n",
       "      <td>200000.000000</td>\n",
       "      <td>200000.000000</td>\n",
       "      <td>200000.000000</td>\n",
       "      <td>138024.000000</td>\n",
       "      <td>61304.000000</td>\n",
       "      <td>200000.000000</td>\n",
       "    </tr>\n",
       "    <tr>\n",
       "      <th>mean</th>\n",
       "      <td>8.086030</td>\n",
       "      <td>0.409200</td>\n",
       "      <td>5.289145</td>\n",
       "      <td>9.844563</td>\n",
       "      <td>12.652404</td>\n",
       "      <td>9323.773765</td>\n",
       "    </tr>\n",
       "    <tr>\n",
       "      <th>std</th>\n",
       "      <td>6.533938</td>\n",
       "      <td>0.491687</td>\n",
       "      <td>3.743880</td>\n",
       "      <td>5.084404</td>\n",
       "      <td>4.123064</td>\n",
       "      <td>4978.055234</td>\n",
       "    </tr>\n",
       "    <tr>\n",
       "      <th>min</th>\n",
       "      <td>0.000000</td>\n",
       "      <td>0.000000</td>\n",
       "      <td>1.000000</td>\n",
       "      <td>2.000000</td>\n",
       "      <td>3.000000</td>\n",
       "      <td>185.000000</td>\n",
       "    </tr>\n",
       "    <tr>\n",
       "      <th>25%</th>\n",
       "      <td>2.000000</td>\n",
       "      <td>0.000000</td>\n",
       "      <td>1.000000</td>\n",
       "      <td>5.000000</td>\n",
       "      <td>9.000000</td>\n",
       "      <td>5860.000000</td>\n",
       "    </tr>\n",
       "    <tr>\n",
       "      <th>50%</th>\n",
       "      <td>7.000000</td>\n",
       "      <td>0.000000</td>\n",
       "      <td>5.000000</td>\n",
       "      <td>9.000000</td>\n",
       "      <td>14.000000</td>\n",
       "      <td>8060.000000</td>\n",
       "    </tr>\n",
       "    <tr>\n",
       "      <th>75%</th>\n",
       "      <td>14.000000</td>\n",
       "      <td>1.000000</td>\n",
       "      <td>8.000000</td>\n",
       "      <td>15.000000</td>\n",
       "      <td>16.000000</td>\n",
       "      <td>12067.000000</td>\n",
       "    </tr>\n",
       "    <tr>\n",
       "      <th>max</th>\n",
       "      <td>20.000000</td>\n",
       "      <td>1.000000</td>\n",
       "      <td>18.000000</td>\n",
       "      <td>18.000000</td>\n",
       "      <td>18.000000</td>\n",
       "      <td>23961.000000</td>\n",
       "    </tr>\n",
       "  </tbody>\n",
       "</table>\n",
       "</div>"
      ],
      "text/plain": [
       "          Occupation  Marital_Status  Product_Category_1  Product_Category_2  \\\n",
       "count  200000.000000   200000.000000       200000.000000       138024.000000   \n",
       "mean        8.086030        0.409200            5.289145            9.844563   \n",
       "std         6.533938        0.491687            3.743880            5.084404   \n",
       "min         0.000000        0.000000            1.000000            2.000000   \n",
       "25%         2.000000        0.000000            1.000000            5.000000   \n",
       "50%         7.000000        0.000000            5.000000            9.000000   \n",
       "75%        14.000000        1.000000            8.000000           15.000000   \n",
       "max        20.000000        1.000000           18.000000           18.000000   \n",
       "\n",
       "       Product_Category_3       Purchase  \n",
       "count        61304.000000  200000.000000  \n",
       "mean            12.652404    9323.773765  \n",
       "std              4.123064    4978.055234  \n",
       "min              3.000000     185.000000  \n",
       "25%              9.000000    5860.000000  \n",
       "50%             14.000000    8060.000000  \n",
       "75%             16.000000   12067.000000  \n",
       "max             18.000000   23961.000000  "
      ]
     },
     "execution_count": 5,
     "metadata": {},
     "output_type": "execute_result"
    }
   ],
   "source": [
    "train_df.describe()"
   ]
  },
  {
   "cell_type": "code",
   "execution_count": 6,
   "metadata": {
    "colab": {
     "base_uri": "https://localhost:8080/",
     "height": 175
    },
    "colab_type": "code",
    "executionInfo": {
     "elapsed": 5558,
     "status": "ok",
     "timestamp": 1544031559708,
     "user": {
      "displayName": "Ahmed Ali",
      "photoUrl": "",
      "userId": "02567208557833711191"
     },
     "user_tz": -120
    },
    "id": "XWfJJBPeB4AR",
    "outputId": "9abba4b9-3617-4e24-cae6-7a76d271211d"
   },
   "outputs": [
    {
     "data": {
      "text/html": [
       "<div>\n",
       "<style scoped>\n",
       "    .dataframe tbody tr th:only-of-type {\n",
       "        vertical-align: middle;\n",
       "    }\n",
       "\n",
       "    .dataframe tbody tr th {\n",
       "        vertical-align: top;\n",
       "    }\n",
       "\n",
       "    .dataframe thead th {\n",
       "        text-align: right;\n",
       "    }\n",
       "</style>\n",
       "<table border=\"1\" class=\"dataframe\">\n",
       "  <thead>\n",
       "    <tr style=\"text-align: right;\">\n",
       "      <th></th>\n",
       "      <th>Gender</th>\n",
       "      <th>Age</th>\n",
       "      <th>City_Category</th>\n",
       "      <th>C_Years</th>\n",
       "    </tr>\n",
       "  </thead>\n",
       "  <tbody>\n",
       "    <tr>\n",
       "      <th>count</th>\n",
       "      <td>200000</td>\n",
       "      <td>200000</td>\n",
       "      <td>200000</td>\n",
       "      <td>200000</td>\n",
       "    </tr>\n",
       "    <tr>\n",
       "      <th>unique</th>\n",
       "      <td>2</td>\n",
       "      <td>7</td>\n",
       "      <td>3</td>\n",
       "      <td>5</td>\n",
       "    </tr>\n",
       "    <tr>\n",
       "      <th>top</th>\n",
       "      <td>M</td>\n",
       "      <td>26-35</td>\n",
       "      <td>B</td>\n",
       "      <td>1</td>\n",
       "    </tr>\n",
       "    <tr>\n",
       "      <th>freq</th>\n",
       "      <td>150715</td>\n",
       "      <td>79800</td>\n",
       "      <td>84036</td>\n",
       "      <td>70095</td>\n",
       "    </tr>\n",
       "  </tbody>\n",
       "</table>\n",
       "</div>"
      ],
      "text/plain": [
       "        Gender     Age City_Category C_Years\n",
       "count   200000  200000        200000  200000\n",
       "unique       2       7             3       5\n",
       "top          M   26-35             B       1\n",
       "freq    150715   79800         84036   70095"
      ]
     },
     "execution_count": 6,
     "metadata": {},
     "output_type": "execute_result"
    }
   ],
   "source": [
    "train_df.describe(include=['O'])"
   ]
  },
  {
   "cell_type": "code",
   "execution_count": 7,
   "metadata": {
    "colab": {
     "base_uri": "https://localhost:8080/",
     "height": 256
    },
    "colab_type": "code",
    "executionInfo": {
     "elapsed": 7326,
     "status": "ok",
     "timestamp": 1544031561502,
     "user": {
      "displayName": "Ahmed Ali",
      "photoUrl": "",
      "userId": "02567208557833711191"
     },
     "user_tz": -120
    },
    "id": "OSHBKifuhaKQ",
    "outputId": "e7b95d8d-e431-47e9-cd48-934826adfcad"
   },
   "outputs": [
    {
     "data": {
      "text/plain": [
       "Gender                     0\n",
       "Age                        0\n",
       "Occupation                 0\n",
       "City_Category              0\n",
       "C_Years                    0\n",
       "Marital_Status             0\n",
       "Product_Category_1         0\n",
       "Product_Category_2     61976\n",
       "Product_Category_3    138696\n",
       "Purchase                   0\n",
       "dtype: int64"
      ]
     },
     "execution_count": 7,
     "metadata": {},
     "output_type": "execute_result"
    }
   ],
   "source": [
    "train_df.isnull().sum()"
   ]
  },
  {
   "cell_type": "code",
   "execution_count": 8,
   "metadata": {
    "colab": {
     "base_uri": "https://localhost:8080/",
     "height": 35
    },
    "colab_type": "code",
    "executionInfo": {
     "elapsed": 7245,
     "status": "ok",
     "timestamp": 1544031561506,
     "user": {
      "displayName": "Ahmed Ali",
      "photoUrl": "",
      "userId": "02567208557833711191"
     },
     "user_tz": -120
    },
    "id": "kYGcrFjTjiO0",
    "outputId": "3e8e57c3-db2e-4738-e229-31e13aca7348"
   },
   "outputs": [
    {
     "data": {
      "text/plain": [
       "(200000, 10)"
      ]
     },
     "execution_count": 8,
     "metadata": {},
     "output_type": "execute_result"
    }
   ],
   "source": [
    "train_df.shape"
   ]
  },
  {
   "cell_type": "code",
   "execution_count": 9,
   "metadata": {
    "colab": {
     "base_uri": "https://localhost:8080/",
     "height": 626
    },
    "colab_type": "code",
    "executionInfo": {
     "elapsed": 8692,
     "status": "ok",
     "timestamp": 1544031563023,
     "user": {
      "displayName": "Ahmed Ali",
      "photoUrl": "",
      "userId": "02567208557833711191"
     },
     "user_tz": -120
    },
    "id": "NYPWJuFFXkgA",
    "outputId": "0795da2e-8c1b-4fae-f3b7-90ae5cf7f8bf"
   },
   "outputs": [
    {
     "name": "stderr",
     "output_type": "stream",
     "text": [
      "C:\\ProgramData\\Anaconda3\\lib\\site-packages\\matplotlib\\axes\\_axes.py:6462: UserWarning: The 'normed' kwarg is deprecated, and has been replaced by the 'density' kwarg.\n",
      "  warnings.warn(\"The 'normed' kwarg is deprecated, and has been \"\n"
     ]
    },
    {
     "name": "stdout",
     "output_type": "stream",
     "text": [
      "\n",
      " mu = 9323.77 and sigma = 4978.04\n",
      "\n"
     ]
    },
    {
     "data": {
      "image/png": "[encoded data removed]",
      "text/plain": [
       "<Figure size 432x288 with 1 Axes>"
      ]
     },
     "metadata": {},
     "output_type": "display_data"
    },
    {
     "data": {
      "image/png": "[encoded data removed]",
      "text/plain": [
       "<Figure size 432x288 with 1 Axes>"
      ]
     },
     "metadata": {},
     "output_type": "display_data"
    }
   ],
   "source": [
    "sns.distplot(train_df['Purchase'] , fit=norm);\n",
    "\n",
    "\n",
    "(mu, sigma) = norm.fit(train_df['Purchase'])\n",
    "print( '\\n mu = {:.2f} and sigma = {:.2f}\\n'.format(mu, sigma))\n",
    "\n",
    "\n",
    "plt.legend(['Normal dist. ($\\mu=$ {:.2f} and $\\sigma=$ {:.2f} )'.format(mu, sigma)],loc='best')\n",
    "plt.ylabel('Frequency')\n",
    "plt.title('SalePrice distribution')\n",
    "\n",
    "\n",
    "fig = plt.figure()\n",
    "res = stats.probplot(train_df['Purchase'], plot=plt)\n",
    "plt.show()"
   ]
  },
  {
   "cell_type": "code",
   "execution_count": 10,
   "metadata": {
    "colab": {
     "base_uri": "https://localhost:8080/",
     "height": 35
    },
    "colab_type": "code",
    "executionInfo": {
     "elapsed": 9597,
     "status": "ok",
     "timestamp": 1544031563984,
     "user": {
      "displayName": "Ahmed Ali",
      "photoUrl": "",
      "userId": "02567208557833711191"
     },
     "user_tz": -120
    },
    "id": "atyK6LphkoYl",
    "outputId": "2d672033-4fe9-4afd-b728-da3ef6e8e539"
   },
   "outputs": [
    {
     "name": "stdout",
     "output_type": "stream",
     "text": [
      "Lambda: 0.489146\n"
     ]
    }
   ],
   "source": [
    "train_df['Purchase'], lam = boxcox(train_df['Purchase'])\n",
    "print('Lambda: %f' % lam)"
   ]
  },
  {
   "cell_type": "code",
   "execution_count": 11,
   "metadata": {
    "colab": {
     "base_uri": "https://localhost:8080/",
     "height": 626
    },
    "colab_type": "code",
    "executionInfo": {
     "elapsed": 12778,
     "status": "ok",
     "timestamp": 1544031567196,
     "user": {
      "displayName": "Ahmed Ali",
      "photoUrl": "",
      "userId": "02567208557833711191"
     },
     "user_tz": -120
    },
    "id": "RaDJsimnrj4y",
    "outputId": "58e21bef-2578-4253-85bb-8e6463b54a60"
   },
   "outputs": [
    {
     "name": "stderr",
     "output_type": "stream",
     "text": [
      "C:\\ProgramData\\Anaconda3\\lib\\site-packages\\matplotlib\\axes\\_axes.py:6462: UserWarning: The 'normed' kwarg is deprecated, and has been replaced by the 'density' kwarg.\n",
      "  warnings.warn(\"The 'normed' kwarg is deprecated, and has been \"\n"
     ]
    },
    {
     "name": "stdout",
     "output_type": "stream",
     "text": [
      "\n",
      " mu = 169.89 and sigma = 47.92\n",
      "\n"
     ]
    },
    {
     "data": {
      "image/png": "[encoded data removed]",
      "text/plain": [
       "<Figure size 432x288 with 1 Axes>"
      ]
     },
     "metadata": {},
     "output_type": "display_data"
    },
    {
     "data": {
      "image/png": "[encoded data removed]",
      "text/plain": [
       "<Figure size 432x288 with 1 Axes>"
      ]
     },
     "metadata": {},
     "output_type": "display_data"
    }
   ],
   "source": [
    "sns.distplot(train_df['Purchase'] , fit=norm);\n",
    "\n",
    "\n",
    "(mu, sigma) = norm.fit(train_df['Purchase'])\n",
    "print( '\\n mu = {:.2f} and sigma = {:.2f}\\n'.format(mu, sigma))\n",
    "\n",
    "\n",
    "plt.legend(['Normal dist. ($\\mu=$ {:.2f} and $\\sigma=$ {:.2f} )'.format(mu, sigma)],loc='best')\n",
    "plt.ylabel('Frequency')\n",
    "plt.title('SalePrice distribution')\n",
    "\n",
    "\n",
    "fig = plt.figure()\n",
    "res = stats.probplot(train_df['Purchase'], plot=plt)\n",
    "plt.show()"
   ]
  },
  {
   "cell_type": "code",
   "execution_count": 30,
   "metadata": {},
   "outputs": [
    {
     "data": {
      "text/plain": [
       "count    200000.000000\n",
       "mean        169.888561\n",
       "std          47.923832\n",
       "min          24.230405\n",
       "25%         140.389373\n",
       "50%         164.422945\n",
       "75%         200.751338\n",
       "max         281.602534\n",
       "Name: Purchase, dtype: float64"
      ]
     },
     "execution_count": 30,
     "metadata": {},
     "output_type": "execute_result"
    }
   ],
   "source": [
    "train_df['Purchase'].describe()"
   ]
  },
  {
   "cell_type": "code",
   "execution_count": 12,
   "metadata": {
    "colab": {
     "base_uri": "https://localhost:8080/",
     "height": 641
    },
    "colab_type": "code",
    "executionInfo": {
     "elapsed": 12759,
     "status": "ok",
     "timestamp": 1544031567204,
     "user": {
      "displayName": "Ahmed Ali",
      "photoUrl": "",
      "userId": "02567208557833711191"
     },
     "user_tz": -120
    },
    "id": "IwEznZHFT8W1",
    "outputId": "6bbe78a9-c616-4ec5-d764-f9a4b19d092e"
   },
   "outputs": [
    {
     "data": {
      "text/plain": [
       "<matplotlib.axes._subplots.AxesSubplot at 0x20bd0bd2a90>"
      ]
     },
     "execution_count": 12,
     "metadata": {},
     "output_type": "execute_result"
    },
    {
     "data": {
      "image/png": "[encoded data removed]",
      "text/plain": [
       "<Figure size 864x648 with 2 Axes>"
      ]
     },
     "metadata": {},
     "output_type": "display_data"
    }
   ],
   "source": [
    "corrmat = train_df.corr()\n",
    "plt.subplots(figsize=(12,9))\n",
    "sns.heatmap(corrmat, vmax=0.9,annot=True, square=True)"
   ]
  },
  {
   "cell_type": "code",
   "execution_count": 13,
   "metadata": {
    "colab": {
     "base_uri": "https://localhost:8080/",
     "height": 81
    },
    "colab_type": "code",
    "executionInfo": {
     "elapsed": 137343,
     "status": "ok",
     "timestamp": 1544031691895,
     "user": {
      "displayName": "Ahmed Ali",
      "photoUrl": "",
      "userId": "02567208557833711191"
     },
     "user_tz": -120
    },
    "id": "93qZGxFYDxgh",
    "outputId": "a927bc43-49fc-4e60-cb7f-009e2d35475e"
   },
   "outputs": [
    {
     "data": {
      "text/html": [
       "<div>\n",
       "<style scoped>\n",
       "    .dataframe tbody tr th:only-of-type {\n",
       "        vertical-align: middle;\n",
       "    }\n",
       "\n",
       "    .dataframe tbody tr th {\n",
       "        vertical-align: top;\n",
       "    }\n",
       "\n",
       "    .dataframe thead th {\n",
       "        text-align: right;\n",
       "    }\n",
       "</style>\n",
       "<table border=\"1\" class=\"dataframe\">\n",
       "  <thead>\n",
       "    <tr style=\"text-align: right;\">\n",
       "      <th></th>\n",
       "      <th>Gender</th>\n",
       "      <th>Age</th>\n",
       "      <th>Occupation</th>\n",
       "      <th>City_Category</th>\n",
       "      <th>C_Years</th>\n",
       "      <th>Marital_Status</th>\n",
       "      <th>Product_Category_1</th>\n",
       "      <th>Product_Category_2</th>\n",
       "      <th>Product_Category_3</th>\n",
       "      <th>Purchase</th>\n",
       "    </tr>\n",
       "  </thead>\n",
       "  <tbody>\n",
       "    <tr>\n",
       "      <th>0</th>\n",
       "      <td>F</td>\n",
       "      <td>0-17</td>\n",
       "      <td>10</td>\n",
       "      <td>A</td>\n",
       "      <td>2</td>\n",
       "      <td>0</td>\n",
       "      <td>3</td>\n",
       "      <td>NaN</td>\n",
       "      <td>NaN</td>\n",
       "      <td>167.52456</td>\n",
       "    </tr>\n",
       "  </tbody>\n",
       "</table>\n",
       "</div>"
      ],
      "text/plain": [
       "  Gender   Age  Occupation City_Category C_Years  Marital_Status  \\\n",
       "0      F  0-17          10             A       2               0   \n",
       "\n",
       "   Product_Category_1  Product_Category_2  Product_Category_3   Purchase  \n",
       "0                   3                 NaN                 NaN  167.52456  "
      ]
     },
     "execution_count": 13,
     "metadata": {},
     "output_type": "execute_result"
    }
   ],
   "source": [
    "train_df.head(1)"
   ]
  },
  {
   "cell_type": "code",
   "execution_count": 14,
   "metadata": {
    "colab": {
     "base_uri": "https://localhost:8080/",
     "height": 336
    },
    "colab_type": "code",
    "executionInfo": {
     "elapsed": 137338,
     "status": "ok",
     "timestamp": 1544031691914,
     "user": {
      "displayName": "Ahmed Ali",
      "photoUrl": "",
      "userId": "02567208557833711191"
     },
     "user_tz": -120
    },
    "id": "1q73Q3bPT6DP",
    "outputId": "0131a4a5-5297-4c66-d2f4-d61040b42d7c"
   },
   "outputs": [
    {
     "data": {
      "image/png": "[encoded data removed]",
      "text/plain": [
       "<Figure size 432x288 with 1 Axes>"
      ]
     },
     "metadata": {},
     "output_type": "display_data"
    }
   ],
   "source": [
    "# df=train_df[['Age', 'Purchase']].groupby(['Age'], as_index=False).mean()\n",
    "\n",
    "\n",
    "# ax = sns.barplot(x = 'Age', y = 'Purchase', data=df)\n",
    "# ax.set_xlabel(\"Age\", fontsize=12)\n",
    "# ax.set_ylabel(\"Purchase\", fontsize=12)\n",
    "\n",
    "df = train_df.groupby(['Age','Gender'], as_index=False).agg({'Purchase':np.sum})\n",
    "sns.barplot('Age','Purchase',hue='Gender',data=df,alpha = 0.8)\n",
    "plt.xlabel('Age',fontsize=14)\n",
    "plt.ylabel('')\n",
    "plt.title('Total purchase',fontsize=14)\n",
    "plt.legend(['Male','Female'],frameon=True,fontsize=14)\n",
    "plt.tick_params(labelsize=15)\n",
    "plt.show()"
   ]
  },
  {
   "cell_type": "code",
   "execution_count": 15,
   "metadata": {},
   "outputs": [
    {
     "data": {
      "image/png": "[encoded data removed]",
      "text/plain": [
       "<Figure size 432x288 with 1 Axes>"
      ]
     },
     "metadata": {},
     "output_type": "display_data"
    }
   ],
   "source": [
    "df = train_df.groupby(['Age','City_Category'], as_index=False).agg({'Purchase':np.sum})\n",
    "sns.barplot('Age','Purchase',hue='City_Category',data=df,alpha = 0.8)\n",
    "plt.xlabel('City Catgory',fontsize=14)\n",
    "plt.ylabel('')\n",
    "plt.title('Total purchase',fontsize=14)\n",
    "plt.legend(['A','B','C'],frameon=True,fontsize=14)\n",
    "plt.tick_params(labelsize=15)\n",
    "plt.show()"
   ]
  },
  {
   "cell_type": "code",
   "execution_count": 65,
   "metadata": {},
   "outputs": [
    {
     "data": {
      "image/png": "[encoded data removed]",
      "text/plain": [
       "<Figure size 432x288 with 1 Axes>"
      ]
     },
     "metadata": {},
     "output_type": "display_data"
    }
   ],
   "source": [
    "sns.countplot('Age',order = ['0-17','18-25','26-35','36-45','46-50','51-55','55+'],hue='City_Category',data=train_df,alpha = 0.8)\n",
    "plt.xlabel('Age',fontsize=14)\n",
    "plt.ylabel('')\n",
    "plt.title('Count of customer',fontsize=14)\n",
    "plt.legend(['A','B','C'],frameon=True,fontsize=14)\n",
    "plt.tick_params(labelsize=15)\n",
    "plt.show()"
   ]
  },
  {
   "cell_type": "code",
   "execution_count": 66,
   "metadata": {},
   "outputs": [
    {
     "data": {
      "image/png": "[encoded data removed]",
      "text/plain": [
       "<Figure size 432x288 with 1 Axes>"
      ]
     },
     "metadata": {},
     "output_type": "display_data"
    }
   ],
   "source": [
    "df = train_df.groupby(['City_Category','Marital_Status'], as_index=False).agg({'Purchase':np.sum})\n",
    "df['Marital_Status']=np.where(df['Marital_Status'] == 0,'Single','Married')\n",
    "sns.barplot('City_Category','Purchase',hue='Marital_Status',data=df,alpha = 0.8)\n",
    "plt.xlabel('City Catgory',fontsize=14)\n",
    "plt.ylabel('')\n",
    "plt.title('Total purchase',fontsize=14)\n",
    "plt.tick_params(labelsize=15)\n",
    "plt.show()"
   ]
  },
  {
   "cell_type": "code",
   "execution_count": 67,
   "metadata": {},
   "outputs": [
    {
     "data": {
      "image/png": "[encoded data removed]",
      "text/plain": [
       "<Figure size 432x288 with 1 Axes>"
      ]
     },
     "metadata": {},
     "output_type": "display_data"
    }
   ],
   "source": [
    "df = train_df.groupby(['City_Category','C_Years'], as_index=False).agg({'Purchase':np.sum})\n",
    "sns.barplot('City_Category','Purchase',hue='C_Years',data=df,alpha = 0.8)\n",
    "plt.xlabel('City Catgory',fontsize=14)\n",
    "plt.ylabel('')\n",
    "plt.title('Total purchase',fontsize=14)\n",
    "plt.tick_params(labelsize=15)\n",
    "plt.show()"
   ]
  },
  {
   "cell_type": "code",
   "execution_count": 68,
   "metadata": {},
   "outputs": [
    {
     "data": {
      "text/html": [
       "<div>\n",
       "<style scoped>\n",
       "    .dataframe tbody tr th:only-of-type {\n",
       "        vertical-align: middle;\n",
       "    }\n",
       "\n",
       "    .dataframe tbody tr th {\n",
       "        vertical-align: top;\n",
       "    }\n",
       "\n",
       "    .dataframe thead th {\n",
       "        text-align: right;\n",
       "    }\n",
       "</style>\n",
       "<table border=\"1\" class=\"dataframe\">\n",
       "  <thead>\n",
       "    <tr style=\"text-align: right;\">\n",
       "      <th></th>\n",
       "      <th></th>\n",
       "      <th>Purchase</th>\n",
       "    </tr>\n",
       "    <tr>\n",
       "      <th>Age</th>\n",
       "      <th>Product_Category_1</th>\n",
       "      <th></th>\n",
       "    </tr>\n",
       "  </thead>\n",
       "  <tbody>\n",
       "    <tr>\n",
       "      <th rowspan=\"18\" valign=\"top\">0-17</th>\n",
       "      <th>1</th>\n",
       "      <td>1314</td>\n",
       "    </tr>\n",
       "    <tr>\n",
       "      <th>2</th>\n",
       "      <td>289</td>\n",
       "    </tr>\n",
       "    <tr>\n",
       "      <th>3</th>\n",
       "      <td>450</td>\n",
       "    </tr>\n",
       "    <tr>\n",
       "      <th>4</th>\n",
       "      <td>296</td>\n",
       "    </tr>\n",
       "    <tr>\n",
       "      <th>5</th>\n",
       "      <td>1526</td>\n",
       "    </tr>\n",
       "    <tr>\n",
       "      <th>6</th>\n",
       "      <td>150</td>\n",
       "    </tr>\n",
       "    <tr>\n",
       "      <th>7</th>\n",
       "      <td>14</td>\n",
       "    </tr>\n",
       "    <tr>\n",
       "      <th>8</th>\n",
       "      <td>804</td>\n",
       "    </tr>\n",
       "    <tr>\n",
       "      <th>9</th>\n",
       "      <td>7</td>\n",
       "    </tr>\n",
       "    <tr>\n",
       "      <th>10</th>\n",
       "      <td>47</td>\n",
       "    </tr>\n",
       "    <tr>\n",
       "      <th>11</th>\n",
       "      <td>248</td>\n",
       "    </tr>\n",
       "    <tr>\n",
       "      <th>12</th>\n",
       "      <td>42</td>\n",
       "    </tr>\n",
       "    <tr>\n",
       "      <th>13</th>\n",
       "      <td>33</td>\n",
       "    </tr>\n",
       "    <tr>\n",
       "      <th>14</th>\n",
       "      <td>15</td>\n",
       "    </tr>\n",
       "    <tr>\n",
       "      <th>15</th>\n",
       "      <td>62</td>\n",
       "    </tr>\n",
       "    <tr>\n",
       "      <th>16</th>\n",
       "      <td>79</td>\n",
       "    </tr>\n",
       "    <tr>\n",
       "      <th>17</th>\n",
       "      <td>2</td>\n",
       "    </tr>\n",
       "    <tr>\n",
       "      <th>18</th>\n",
       "      <td>12</td>\n",
       "    </tr>\n",
       "    <tr>\n",
       "      <th rowspan=\"12\" valign=\"top\">18-25</th>\n",
       "      <th>1</th>\n",
       "      <td>10089</td>\n",
       "    </tr>\n",
       "    <tr>\n",
       "      <th>2</th>\n",
       "      <td>1631</td>\n",
       "    </tr>\n",
       "    <tr>\n",
       "      <th>3</th>\n",
       "      <td>1730</td>\n",
       "    </tr>\n",
       "    <tr>\n",
       "      <th>4</th>\n",
       "      <td>885</td>\n",
       "    </tr>\n",
       "    <tr>\n",
       "      <th>5</th>\n",
       "      <td>10619</td>\n",
       "    </tr>\n",
       "    <tr>\n",
       "      <th>6</th>\n",
       "      <td>1380</td>\n",
       "    </tr>\n",
       "    <tr>\n",
       "      <th>7</th>\n",
       "      <td>171</td>\n",
       "    </tr>\n",
       "    <tr>\n",
       "      <th>8</th>\n",
       "      <td>6635</td>\n",
       "    </tr>\n",
       "    <tr>\n",
       "      <th>9</th>\n",
       "      <td>23</td>\n",
       "    </tr>\n",
       "    <tr>\n",
       "      <th>10</th>\n",
       "      <td>221</td>\n",
       "    </tr>\n",
       "    <tr>\n",
       "      <th>11</th>\n",
       "      <td>1774</td>\n",
       "    </tr>\n",
       "    <tr>\n",
       "      <th>12</th>\n",
       "      <td>173</td>\n",
       "    </tr>\n",
       "    <tr>\n",
       "      <th>...</th>\n",
       "      <th>...</th>\n",
       "      <td>...</td>\n",
       "    </tr>\n",
       "    <tr>\n",
       "      <th rowspan=\"12\" valign=\"top\">51-55</th>\n",
       "      <th>7</th>\n",
       "      <td>97</td>\n",
       "    </tr>\n",
       "    <tr>\n",
       "      <th>8</th>\n",
       "      <td>3407</td>\n",
       "    </tr>\n",
       "    <tr>\n",
       "      <th>9</th>\n",
       "      <td>13</td>\n",
       "    </tr>\n",
       "    <tr>\n",
       "      <th>10</th>\n",
       "      <td>172</td>\n",
       "    </tr>\n",
       "    <tr>\n",
       "      <th>11</th>\n",
       "      <td>498</td>\n",
       "    </tr>\n",
       "    <tr>\n",
       "      <th>12</th>\n",
       "      <td>165</td>\n",
       "    </tr>\n",
       "    <tr>\n",
       "      <th>13</th>\n",
       "      <td>191</td>\n",
       "    </tr>\n",
       "    <tr>\n",
       "      <th>14</th>\n",
       "      <td>57</td>\n",
       "    </tr>\n",
       "    <tr>\n",
       "      <th>15</th>\n",
       "      <td>164</td>\n",
       "    </tr>\n",
       "    <tr>\n",
       "      <th>16</th>\n",
       "      <td>264</td>\n",
       "    </tr>\n",
       "    <tr>\n",
       "      <th>17</th>\n",
       "      <td>39</td>\n",
       "    </tr>\n",
       "    <tr>\n",
       "      <th>18</th>\n",
       "      <td>144</td>\n",
       "    </tr>\n",
       "    <tr>\n",
       "      <th rowspan=\"18\" valign=\"top\">55+</th>\n",
       "      <th>1</th>\n",
       "      <td>1601</td>\n",
       "    </tr>\n",
       "    <tr>\n",
       "      <th>2</th>\n",
       "      <td>358</td>\n",
       "    </tr>\n",
       "    <tr>\n",
       "      <th>3</th>\n",
       "      <td>172</td>\n",
       "    </tr>\n",
       "    <tr>\n",
       "      <th>4</th>\n",
       "      <td>113</td>\n",
       "    </tr>\n",
       "    <tr>\n",
       "      <th>5</th>\n",
       "      <td>1990</td>\n",
       "    </tr>\n",
       "    <tr>\n",
       "      <th>6</th>\n",
       "      <td>297</td>\n",
       "    </tr>\n",
       "    <tr>\n",
       "      <th>7</th>\n",
       "      <td>47</td>\n",
       "    </tr>\n",
       "    <tr>\n",
       "      <th>8</th>\n",
       "      <td>2304</td>\n",
       "    </tr>\n",
       "    <tr>\n",
       "      <th>9</th>\n",
       "      <td>2</td>\n",
       "    </tr>\n",
       "    <tr>\n",
       "      <th>10</th>\n",
       "      <td>121</td>\n",
       "    </tr>\n",
       "    <tr>\n",
       "      <th>11</th>\n",
       "      <td>206</td>\n",
       "    </tr>\n",
       "    <tr>\n",
       "      <th>12</th>\n",
       "      <td>126</td>\n",
       "    </tr>\n",
       "    <tr>\n",
       "      <th>13</th>\n",
       "      <td>115</td>\n",
       "    </tr>\n",
       "    <tr>\n",
       "      <th>14</th>\n",
       "      <td>29</td>\n",
       "    </tr>\n",
       "    <tr>\n",
       "      <th>15</th>\n",
       "      <td>84</td>\n",
       "    </tr>\n",
       "    <tr>\n",
       "      <th>16</th>\n",
       "      <td>121</td>\n",
       "    </tr>\n",
       "    <tr>\n",
       "      <th>17</th>\n",
       "      <td>26</td>\n",
       "    </tr>\n",
       "    <tr>\n",
       "      <th>18</th>\n",
       "      <td>87</td>\n",
       "    </tr>\n",
       "  </tbody>\n",
       "</table>\n",
       "<p>126 rows × 1 columns</p>\n",
       "</div>"
      ],
      "text/plain": [
       "                          Purchase\n",
       "Age   Product_Category_1          \n",
       "0-17  1                       1314\n",
       "      2                        289\n",
       "      3                        450\n",
       "      4                        296\n",
       "      5                       1526\n",
       "      6                        150\n",
       "      7                         14\n",
       "      8                        804\n",
       "      9                          7\n",
       "      10                        47\n",
       "      11                       248\n",
       "      12                        42\n",
       "      13                        33\n",
       "      14                        15\n",
       "      15                        62\n",
       "      16                        79\n",
       "      17                         2\n",
       "      18                        12\n",
       "18-25 1                      10089\n",
       "      2                       1631\n",
       "      3                       1730\n",
       "      4                        885\n",
       "      5                      10619\n",
       "      6                       1380\n",
       "      7                        171\n",
       "      8                       6635\n",
       "      9                         23\n",
       "      10                       221\n",
       "      11                      1774\n",
       "      12                       173\n",
       "...                            ...\n",
       "51-55 7                         97\n",
       "      8                       3407\n",
       "      9                         13\n",
       "      10                       172\n",
       "      11                       498\n",
       "      12                       165\n",
       "      13                       191\n",
       "      14                        57\n",
       "      15                       164\n",
       "      16                       264\n",
       "      17                        39\n",
       "      18                       144\n",
       "55+   1                       1601\n",
       "      2                        358\n",
       "      3                        172\n",
       "      4                        113\n",
       "      5                       1990\n",
       "      6                        297\n",
       "      7                         47\n",
       "      8                       2304\n",
       "      9                          2\n",
       "      10                       121\n",
       "      11                       206\n",
       "      12                       126\n",
       "      13                       115\n",
       "      14                        29\n",
       "      15                        84\n",
       "      16                       121\n",
       "      17                        26\n",
       "      18                        87\n",
       "\n",
       "[126 rows x 1 columns]"
      ]
     },
     "execution_count": 68,
     "metadata": {},
     "output_type": "execute_result"
    }
   ],
   "source": [
    "view_df=train_df.groupby( [ \"Age\", \"Product_Category_1\"] ).agg({'Purchase':'count'})\n",
    "view_df"
   ]
  },
  {
   "cell_type": "code",
   "execution_count": 69,
   "metadata": {
    "colab": {
     "base_uri": "https://localhost:8080/",
     "height": 870
    },
    "colab_type": "code",
    "executionInfo": {
     "elapsed": 185089,
     "status": "ok",
     "timestamp": 1544031739836,
     "user": {
      "displayName": "Ahmed Ali",
      "photoUrl": "",
      "userId": "02567208557833711191"
     },
     "user_tz": -120
    },
    "id": "qGK8vLUaFUKa",
    "outputId": "fbb9a596-86e5-489e-c11b-d57a3efda9a2"
   },
   "outputs": [
    {
     "name": "stderr",
     "output_type": "stream",
     "text": [
      "C:\\ProgramData\\Anaconda3\\lib\\site-packages\\seaborn\\axisgrid.py:703: UserWarning: Using the barplot function without specifying `order` is likely to produce an incorrect plot.\n",
      "  warnings.warn(warning)\n",
      "C:\\ProgramData\\Anaconda3\\lib\\site-packages\\seaborn\\axisgrid.py:703: UserWarning: Using the barplot function without specifying `order` is likely to produce an incorrect plot.\n",
      "  warnings.warn(warning)\n",
      "C:\\ProgramData\\Anaconda3\\lib\\site-packages\\seaborn\\axisgrid.py:703: UserWarning: Using the barplot function without specifying `order` is likely to produce an incorrect plot.\n",
      "  warnings.warn(warning)\n",
      "C:\\ProgramData\\Anaconda3\\lib\\site-packages\\seaborn\\axisgrid.py:703: UserWarning: Using the barplot function without specifying `order` is likely to produce an incorrect plot.\n",
      "  warnings.warn(warning)\n"
     ]
    },
    {
     "data": {
      "image/png": "[encoded data removed]",
      "text/plain": [
       "<Figure size 756x216 with 7 Axes>"
      ]
     },
     "metadata": {},
     "output_type": "display_data"
    },
    {
     "data": {
      "image/png": "[encoded data removed]",
      "text/plain": [
       "<Figure size 216x216 with 2 Axes>"
      ]
     },
     "metadata": {},
     "output_type": "display_data"
    },
    {
     "data": {
      "image/png": "[encoded data removed]",
      "text/plain": [
       "<Figure size 324x216 with 3 Axes>"
      ]
     },
     "metadata": {},
     "output_type": "display_data"
    },
    {
     "data": {
      "image/png": "[encoded data removed]",
      "text/plain": [
       "<Figure size 540x216 with 5 Axes>"
      ]
     },
     "metadata": {},
     "output_type": "display_data"
    }
   ],
   "source": [
    "sns.set(style=\"ticks\")\n",
    "array =[\"Age\",\"Gender\",\"City_Category\",\"C_Years\"]\n",
    "for feature in array:\n",
    "  g = sns.FacetGrid(train_df, col=feature, aspect = 0.5)\n",
    "  g.map(sns.barplot, feature, \"Purchase\")"
   ]
  },
  {
   "cell_type": "code",
   "execution_count": 16,
   "metadata": {
    "colab": {
     "base_uri": "https://localhost:8080/",
     "height": 206
    },
    "colab_type": "code",
    "executionInfo": {
     "elapsed": 185063,
     "status": "ok",
     "timestamp": 1544031739843,
     "user": {
      "displayName": "Ahmed Ali",
      "photoUrl": "",
      "userId": "02567208557833711191"
     },
     "user_tz": -120
    },
    "id": "QeUY9iZijHzP",
    "outputId": "2ba89377-320b-4f41-9b6a-16d57f53c84f"
   },
   "outputs": [],
   "source": [
    "train_df['C_Years']=train_df['C_Years'].replace(['0','2','3','4+'],0)\n",
    "train_df['C_Years']=train_df['C_Years'].replace('1',1)"
   ]
  },
  {
   "cell_type": "code",
   "execution_count": 17,
   "metadata": {
    "colab": {},
    "colab_type": "code",
    "id": "GLy5lUuXml7Y"
   },
   "outputs": [],
   "source": [
    "dummy = pd.get_dummies(train_df['Gender'])\n",
    "train_df = pd.concat([train_df,dummy],axis=1)\n",
    "train_df.drop(['Gender'], axis=1,inplace = True)"
   ]
  },
  {
   "cell_type": "code",
   "execution_count": 18,
   "metadata": {
    "colab": {},
    "colab_type": "code",
    "id": "K_0cB2HkoShU"
   },
   "outputs": [],
   "source": [
    "dummy = pd.get_dummies(train_df['City_Category'])\n",
    "train_df = pd.concat([train_df,dummy],axis=1)\n",
    "train_df.drop(['City_Category'], axis=1,inplace = True)"
   ]
  },
  {
   "cell_type": "code",
   "execution_count": 19,
   "metadata": {},
   "outputs": [],
   "source": [
    "train_df.drop(['Occupation','Product_Category_3'], axis=1,inplace = True)"
   ]
  },
  {
   "cell_type": "code",
   "execution_count": 20,
   "metadata": {
    "colab": {
     "base_uri": "https://localhost:8080/",
     "height": 363
    },
    "colab_type": "code",
    "executionInfo": {
     "elapsed": 185515,
     "status": "ok",
     "timestamp": 1544031740389,
     "user": {
      "displayName": "Ahmed Ali",
      "photoUrl": "",
      "userId": "02567208557833711191"
     },
     "user_tz": -120
    },
    "id": "Zqql2MDqLqwm",
    "outputId": "f8c76b1c-7c30-42c7-974c-836850456352"
   },
   "outputs": [
    {
     "data": {
      "text/html": [
       "<div>\n",
       "<style scoped>\n",
       "    .dataframe tbody tr th:only-of-type {\n",
       "        vertical-align: middle;\n",
       "    }\n",
       "\n",
       "    .dataframe tbody tr th {\n",
       "        vertical-align: top;\n",
       "    }\n",
       "\n",
       "    .dataframe thead th {\n",
       "        text-align: right;\n",
       "    }\n",
       "</style>\n",
       "<table border=\"1\" class=\"dataframe\">\n",
       "  <thead>\n",
       "    <tr style=\"text-align: right;\">\n",
       "      <th></th>\n",
       "      <th>Age</th>\n",
       "      <th>C_Years</th>\n",
       "      <th>Marital_Status</th>\n",
       "      <th>Product_Category_1</th>\n",
       "      <th>Product_Category_2</th>\n",
       "      <th>Purchase</th>\n",
       "      <th>F</th>\n",
       "      <th>M</th>\n",
       "      <th>A</th>\n",
       "      <th>B</th>\n",
       "      <th>C</th>\n",
       "    </tr>\n",
       "  </thead>\n",
       "  <tbody>\n",
       "    <tr>\n",
       "      <th>0</th>\n",
       "      <td>0</td>\n",
       "      <td>0</td>\n",
       "      <td>0</td>\n",
       "      <td>3</td>\n",
       "      <td>NaN</td>\n",
       "      <td>167.524560</td>\n",
       "      <td>1</td>\n",
       "      <td>0</td>\n",
       "      <td>1</td>\n",
       "      <td>0</td>\n",
       "      <td>0</td>\n",
       "    </tr>\n",
       "    <tr>\n",
       "      <th>1</th>\n",
       "      <td>0</td>\n",
       "      <td>0</td>\n",
       "      <td>0</td>\n",
       "      <td>1</td>\n",
       "      <td>6.0</td>\n",
       "      <td>224.990637</td>\n",
       "      <td>1</td>\n",
       "      <td>0</td>\n",
       "      <td>1</td>\n",
       "      <td>0</td>\n",
       "      <td>0</td>\n",
       "    </tr>\n",
       "    <tr>\n",
       "      <th>2</th>\n",
       "      <td>0</td>\n",
       "      <td>0</td>\n",
       "      <td>0</td>\n",
       "      <td>12</td>\n",
       "      <td>NaN</td>\n",
       "      <td>69.206335</td>\n",
       "      <td>1</td>\n",
       "      <td>0</td>\n",
       "      <td>1</td>\n",
       "      <td>0</td>\n",
       "      <td>0</td>\n",
       "    </tr>\n",
       "    <tr>\n",
       "      <th>3</th>\n",
       "      <td>0</td>\n",
       "      <td>0</td>\n",
       "      <td>0</td>\n",
       "      <td>12</td>\n",
       "      <td>14.0</td>\n",
       "      <td>59.583214</td>\n",
       "      <td>1</td>\n",
       "      <td>0</td>\n",
       "      <td>1</td>\n",
       "      <td>0</td>\n",
       "      <td>0</td>\n",
       "    </tr>\n",
       "    <tr>\n",
       "      <th>4</th>\n",
       "      <td>6</td>\n",
       "      <td>0</td>\n",
       "      <td>0</td>\n",
       "      <td>8</td>\n",
       "      <td>NaN</td>\n",
       "      <td>163.500944</td>\n",
       "      <td>0</td>\n",
       "      <td>1</td>\n",
       "      <td>0</td>\n",
       "      <td>0</td>\n",
       "      <td>1</td>\n",
       "    </tr>\n",
       "    <tr>\n",
       "      <th>5</th>\n",
       "      <td>2</td>\n",
       "      <td>0</td>\n",
       "      <td>0</td>\n",
       "      <td>1</td>\n",
       "      <td>2.0</td>\n",
       "      <td>225.187813</td>\n",
       "      <td>0</td>\n",
       "      <td>1</td>\n",
       "      <td>1</td>\n",
       "      <td>0</td>\n",
       "      <td>0</td>\n",
       "    </tr>\n",
       "    <tr>\n",
       "      <th>6</th>\n",
       "      <td>4</td>\n",
       "      <td>0</td>\n",
       "      <td>1</td>\n",
       "      <td>1</td>\n",
       "      <td>8.0</td>\n",
       "      <td>252.571990</td>\n",
       "      <td>0</td>\n",
       "      <td>1</td>\n",
       "      <td>0</td>\n",
       "      <td>1</td>\n",
       "      <td>0</td>\n",
       "    </tr>\n",
       "    <tr>\n",
       "      <th>7</th>\n",
       "      <td>4</td>\n",
       "      <td>0</td>\n",
       "      <td>1</td>\n",
       "      <td>1</td>\n",
       "      <td>15.0</td>\n",
       "      <td>229.717443</td>\n",
       "      <td>0</td>\n",
       "      <td>1</td>\n",
       "      <td>0</td>\n",
       "      <td>1</td>\n",
       "      <td>0</td>\n",
       "    </tr>\n",
       "    <tr>\n",
       "      <th>8</th>\n",
       "      <td>4</td>\n",
       "      <td>0</td>\n",
       "      <td>1</td>\n",
       "      <td>1</td>\n",
       "      <td>16.0</td>\n",
       "      <td>228.512876</td>\n",
       "      <td>0</td>\n",
       "      <td>1</td>\n",
       "      <td>0</td>\n",
       "      <td>1</td>\n",
       "      <td>0</td>\n",
       "    </tr>\n",
       "    <tr>\n",
       "      <th>9</th>\n",
       "      <td>2</td>\n",
       "      <td>1</td>\n",
       "      <td>1</td>\n",
       "      <td>8</td>\n",
       "      <td>NaN</td>\n",
       "      <td>162.501984</td>\n",
       "      <td>0</td>\n",
       "      <td>1</td>\n",
       "      <td>1</td>\n",
       "      <td>0</td>\n",
       "      <td>0</td>\n",
       "    </tr>\n",
       "  </tbody>\n",
       "</table>\n",
       "</div>"
      ],
      "text/plain": [
       "   Age  C_Years  Marital_Status  Product_Category_1  Product_Category_2  \\\n",
       "0    0        0               0                   3                 NaN   \n",
       "1    0        0               0                   1                 6.0   \n",
       "2    0        0               0                  12                 NaN   \n",
       "3    0        0               0                  12                14.0   \n",
       "4    6        0               0                   8                 NaN   \n",
       "5    2        0               0                   1                 2.0   \n",
       "6    4        0               1                   1                 8.0   \n",
       "7    4        0               1                   1                15.0   \n",
       "8    4        0               1                   1                16.0   \n",
       "9    2        1               1                   8                 NaN   \n",
       "\n",
       "     Purchase  F  M  A  B  C  \n",
       "0  167.524560  1  0  1  0  0  \n",
       "1  224.990637  1  0  1  0  0  \n",
       "2   69.206335  1  0  1  0  0  \n",
       "3   59.583214  1  0  1  0  0  \n",
       "4  163.500944  0  1  0  0  1  \n",
       "5  225.187813  0  1  1  0  0  \n",
       "6  252.571990  0  1  0  1  0  \n",
       "7  229.717443  0  1  0  1  0  \n",
       "8  228.512876  0  1  0  1  0  \n",
       "9  162.501984  0  1  1  0  0  "
      ]
     },
     "execution_count": 20,
     "metadata": {},
     "output_type": "execute_result"
    }
   ],
   "source": [
    "train_df['Age'] = le.fit_transform(train_df['Age'])\n",
    "\n",
    "train_df.head(10)"
   ]
  },
  {
   "cell_type": "code",
   "execution_count": 21,
   "metadata": {
    "colab": {},
    "colab_type": "code",
    "id": "nKtnz1ZVLsnl"
   },
   "outputs": [],
   "source": [
    "array = ['Product_Category_2']\n",
    "for feature in array:\n",
    "  train_df[feature].fillna(1, inplace = True)\n",
    "    "
   ]
  },
  {
   "cell_type": "code",
   "execution_count": 22,
   "metadata": {
    "colab": {
     "base_uri": "https://localhost:8080/",
     "height": 219
    },
    "colab_type": "code",
    "executionInfo": {
     "elapsed": 185493,
     "status": "ok",
     "timestamp": 1544031740403,
     "user": {
      "displayName": "Ahmed Ali",
      "photoUrl": "",
      "userId": "02567208557833711191"
     },
     "user_tz": -120
    },
    "id": "Nv_8xXioNXa_",
    "outputId": "3c66dc7a-8bfa-458f-b5bf-744dc7c2e697"
   },
   "outputs": [
    {
     "data": {
      "text/plain": [
       "Age                   0\n",
       "C_Years               0\n",
       "Marital_Status        0\n",
       "Product_Category_1    0\n",
       "Product_Category_2    0\n",
       "Purchase              0\n",
       "F                     0\n",
       "M                     0\n",
       "A                     0\n",
       "B                     0\n",
       "C                     0\n",
       "dtype: int64"
      ]
     },
     "execution_count": 22,
     "metadata": {},
     "output_type": "execute_result"
    }
   ],
   "source": [
    "train_df.isnull().sum()"
   ]
  },
  {
   "cell_type": "code",
   "execution_count": 23,
   "metadata": {
    "colab": {
     "base_uri": "https://localhost:8080/",
     "height": 35
    },
    "colab_type": "code",
    "executionInfo": {
     "elapsed": 185471,
     "status": "ok",
     "timestamp": 1544031740405,
     "user": {
      "displayName": "Ahmed Ali",
      "photoUrl": "",
      "userId": "02567208557833711191"
     },
     "user_tz": -120
    },
    "id": "_Yh4icR488Z1",
    "outputId": "37da1566-2d00-4895-f769-ae4fa986bd50"
   },
   "outputs": [
    {
     "data": {
      "text/plain": [
       "((200000, 10), (200000,))"
      ]
     },
     "execution_count": 23,
     "metadata": {},
     "output_type": "execute_result"
    }
   ],
   "source": [
    "X = train_df.drop([\"Purchase\"],axis = 1)\n",
    "y = train_df[\"Purchase\"]\n",
    "y=y.astype('int')\n",
    "X.shape,y.shape"
   ]
  },
  {
   "cell_type": "code",
   "execution_count": 24,
   "metadata": {
    "colab": {},
    "colab_type": "code",
    "id": "K3PkBgRiNcrX"
   },
   "outputs": [],
   "source": [
    "k_fold = KFold(len(y), n_folds=10, shuffle=False, random_state=0)"
   ]
  },
  {
   "cell_type": "code",
   "execution_count": 25,
   "metadata": {
    "colab": {},
    "colab_type": "code",
    "id": "ngxvkRe4NyaP"
   },
   "outputs": [],
   "source": [
    "naive_bayes = GaussianNB()\n",
    "linear_reg = LinearRegression()\n",
    "xgb = XGBRegressor()\n",
    "random_forest= RandomForestRegressor()"
   ]
  },
  {
   "cell_type": "code",
   "execution_count": 80,
   "metadata": {
    "colab": {
     "base_uri": "https://localhost:8080/",
     "height": 35
    },
    "colab_type": "code",
    "executionInfo": {
     "elapsed": 16870,
     "status": "ok",
     "timestamp": 1544031800194,
     "user": {
      "displayName": "Ahmed Ali",
      "photoUrl": "",
      "userId": "02567208557833711191"
     },
     "user_tz": -120
    },
    "id": "9-apVSPl9iQp",
    "outputId": "d053a500-3652-4404-a40f-76ef86b46bde"
   },
   "outputs": [
    {
     "name": "stdout",
     "output_type": "stream",
     "text": [
      "Score: 49.86\n"
     ]
    }
   ],
   "source": [
    "score = sqrt(abs(cross_val_score(naive_bayes, X, y, cv=k_fold,scoring='neg_mean_squared_error').mean()))\n",
    "print('Score: {:.2f}'.format(score))"
   ]
  },
  {
   "cell_type": "code",
   "execution_count": 81,
   "metadata": {
    "colab": {
     "base_uri": "https://localhost:8080/",
     "height": 35
    },
    "colab_type": "code",
    "executionInfo": {
     "elapsed": 3232,
     "status": "ok",
     "timestamp": 1544031945403,
     "user": {
      "displayName": "Ahmed Ali",
      "photoUrl": "",
      "userId": "02567208557833711191"
     },
     "user_tz": -120
    },
    "id": "UEyf39iH-hLk",
    "outputId": "0af9abdc-eb5a-4480-939f-3bb3e91540ea"
   },
   "outputs": [
    {
     "name": "stdout",
     "output_type": "stream",
     "text": [
      "Score: 44.95\n"
     ]
    }
   ],
   "source": [
    "score = sqrt(abs(cross_val_score(linear_reg, X, y, cv=k_fold,scoring='neg_mean_squared_error').mean()))\n",
    "print('Score: {:.2f}'.format(score))"
   ]
  },
  {
   "cell_type": "code",
   "execution_count": 82,
   "metadata": {
    "colab": {},
    "colab_type": "code",
    "id": "f0i-CLldebTT"
   },
   "outputs": [
    {
     "name": "stdout",
     "output_type": "stream",
     "text": [
      "Best parameter: XGBRegressor(base_score=0.5, booster='gbtree', colsample_bylevel=1,\n",
      "       colsample_bytree=1, gamma=0, learning_rate=0.15, max_delta_step=0,\n",
      "       max_depth=6, min_child_weight=1, missing=None, n_estimators=100,\n",
      "       n_jobs=1, nthread=None, objective='reg:linear', random_state=0,\n",
      "       reg_alpha=0, reg_lambda=1, scale_pos_weight=1, seed=None,\n",
      "       silent=True, subsample=1)\n",
      "Best score: 28.37\n"
     ]
    }
   ],
   "source": [
    "parameters = {'booster':['gbtree','gblinear'],\n",
    "              'max_depth':[2,3,4,5,6,7,8],\n",
    "                  'learning_rate':[0.25,0.2,0.15,0.1,0.05]}\n",
    "grid_obj = GridSearchCV(estimator = xgb, param_grid = parameters,scoring = 'neg_mean_squared_error' )\n",
    "grid_fit = grid_obj.fit(X, y)\n",
    "best_xgb = grid_fit.best_estimator_\n",
    "score = grid_fit.best_score_\n",
    "print('Best parameter: {}'.format(best_xgb))\n",
    "print('Best score: {:.2f}'.format(sqrt(abs(score))))"
   ]
  },
  {
   "cell_type": "code",
   "execution_count": 83,
   "metadata": {},
   "outputs": [
    {
     "name": "stdout",
     "output_type": "stream",
     "text": [
      "Best parameter: RandomForestRegressor(bootstrap=True, criterion='mse', max_depth=8,\n",
      "           max_features='auto', max_leaf_nodes=None,\n",
      "           min_impurity_decrease=0.0, min_impurity_split=None,\n",
      "           min_samples_leaf=1, min_samples_split=2,\n",
      "           min_weight_fraction_leaf=0.0, n_estimators=60, n_jobs=1,\n",
      "           oob_score=False, random_state=None, verbose=0, warm_start=False)\n",
      "Best score: 28.50\n"
     ]
    }
   ],
   "source": [
    "parameters = {'n_estimators':[60,80,100,120,140],\n",
    "              'max_depth':[6,7,8]}\n",
    "grid_obj = GridSearchCV(estimator = random_forest, param_grid = parameters,scoring = 'neg_mean_squared_error' )\n",
    "grid_fit = grid_obj.fit(X, y)\n",
    "best_forest = grid_fit.best_estimator_\n",
    "score = grid_fit.best_score_\n",
    "print('Best parameter: {}'.format(best_forest))\n",
    "print('Best score: {:.2f}'.format(sqrt(abs(score))))"
   ]
  },
  {
   "cell_type": "code",
   "execution_count": 84,
   "metadata": {},
   "outputs": [],
   "source": [
    "train_sizes, train_scores, valid_scores = learning_curve(XGBRegressor(booster='gbtree',max_depth=6,learning_rate=0.15), X, y, cv=3, scoring='neg_mean_squared_error')"
   ]
  },
  {
   "cell_type": "code",
   "execution_count": 85,
   "metadata": {},
   "outputs": [
    {
     "data": {
      "text/plain": [
       "<matplotlib.legend.Legend at 0x2153b4bcc88>"
      ]
     },
     "execution_count": 85,
     "metadata": {},
     "output_type": "execute_result"
    },
    {
     "data": {
      "image/png": "[encoded data removed]",
      "text/plain": [
       "<Figure size 432x288 with 1 Axes>"
      ]
     },
     "metadata": {},
     "output_type": "display_data"
    }
   ],
   "source": [
    "train_scores = np.sqrt(abs(train_scores))\n",
    "valid_scores = np.sqrt(abs(valid_scores))\n",
    "train_scores_mean = np.mean(train_scores, axis=1)\n",
    "train_scores_std = np.std(train_scores, axis=1)\n",
    "valid_scores_mean = np.mean(valid_scores, axis=1)\n",
    "valid_scores_std = np.std(valid_scores, axis=1)\n",
    "\n",
    "plt.figure()\n",
    "plt.plot(train_sizes,valid_scores_mean,label='valid')\n",
    "plt.plot(train_sizes,train_scores_mean,label='train')\n",
    "plt.fill_between(train_sizes, train_scores_mean - train_scores_std, train_scores_mean + train_scores_std, alpha=0.3,color=\"g\")\n",
    "plt.fill_between(train_sizes, valid_scores_mean - valid_scores_std,valid_scores_mean + valid_scores_std, alpha=0.3, color=\"b\")\n",
    "plt.xlabel('Number of samples')\n",
    "plt.ylabel('RMSE')\n",
    "plt.legend()"
   ]
  },
  {
   "cell_type": "code",
   "execution_count": 26,
   "metadata": {
    "scrolled": true
   },
   "outputs": [
    {
     "data": {
      "text/plain": [
       "Text(0.5,0,'relative importance')"
      ]
     },
     "execution_count": 26,
     "metadata": {},
     "output_type": "execute_result"
    },
    {
     "data": {
      "image/png": "[encoded data removed]",
      "text/plain": [
       "<Figure size 432x288 with 1 Axes>"
      ]
     },
     "metadata": {},
     "output_type": "display_data"
    }
   ],
   "source": [
    "rf = XGBRegressor(booster='gbtree',max_depth=6,learning_rate=0.15).fit(X,y)\n",
    "f_im = rf.feature_importances_.round(3)\n",
    "ser_rank = pd.Series(f_im,index=X.columns).sort_values(ascending=False)\n",
    "plt.figure()\n",
    "sns.barplot(y=ser_rank.index,x=ser_rank.values,palette='deep')\n",
    "plt.xlabel('relative importance')"
   ]
  },
  {
   "cell_type": "code",
   "execution_count": null,
   "metadata": {},
   "outputs": [],
   "source": []
  }
 ],
 "metadata": {
  "accelerator": "GPU",
  "colab": {
   "collapsed_sections": [],
   "name": "Black_Friday.ipynb",
   "provenance": [],
   "version": "0.3.2"
  },
  "kernelspec": {
   "display_name": "Python 3",
   "language": "python",
   "name": "python3"
  },
  "language_info": {
   "codemirror_mode": {
    "name": "ipython",
    "version": 3
   },
   "file_extension": ".py",
   "mimetype": "text/x-python",
   "name": "python",
   "nbconvert_exporter": "python",
   "pygments_lexer": "ipython3",
   "version": "3.6.5"
  }
 },
 "nbformat": 4,
 "nbformat_minor": 1
}
